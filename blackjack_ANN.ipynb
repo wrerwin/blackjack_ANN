{
 "cells": [
  {
   "cell_type": "code",
   "execution_count": null,
   "metadata": {},
   "outputs": [],
   "source": [
    "# write algo that defines the rules of blackjack\n",
    "\n",
    "# assumptions: 1p v dealer, no splits\n",
    "\n",
    "# inputs: \n",
    "# outputs: win/tie/loss\n",
    "\n",
    "# rules: \n",
    "# \n",
    "# "
   ]
  }
 ],
 "metadata": {
  "kernelspec": {
   "display_name": "Python [conda env:.conda-keras-gpu]",
   "language": "python",
   "name": "conda-env-.conda-keras-gpu-py"
  },
  "language_info": {
   "codemirror_mode": {
    "name": "ipython",
    "version": 3
   },
   "file_extension": ".py",
   "mimetype": "text/x-python",
   "name": "python",
   "nbconvert_exporter": "python",
   "pygments_lexer": "ipython3",
   "version": "3.6.10"
  }
 },
 "nbformat": 4,
 "nbformat_minor": 4
}
