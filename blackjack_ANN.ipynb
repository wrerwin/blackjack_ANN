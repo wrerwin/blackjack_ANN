{
 "cells": [
  {
   "cell_type": "markdown",
   "metadata": {},
   "source": [
    "Goal: build a function that decides whether to hit or stay\n",
    "\n",
    "Inputs: \n",
    "\n",
    "algo plays each hand fully, but starts with a new deck each time\n",
    "\n"
   ]
  },
  {
   "cell_type": "code",
   "execution_count": null,
   "metadata": {},
   "outputs": [],
   "source": [
    "def blackjack_round():\n",
    "    '''this function plays a 1v1 round of blackjack and outputs the decisions,\n",
    "    cards, and whether the round resulted in a win'''\n",
    "    for hands in blackjack_round:\n",
    "        cards,dealer_card,deck = generate_hand()\n",
    "        [cards,decision] = blackjack_hand()\n",
    "    return([hands_played],[decisions_made],dealer_first_card,winORloss)\n",
    "\n",
    "def generate_hand():\n",
    "    return cards,dealer_card,deck\n",
    "\n",
    "def blackjack_hand():\n",
    "    return cards,decision"
   ]
  },
  {
   "cell_type": "code",
   "execution_count": null,
   "metadata": {},
   "outputs": [],
   "source": [
    "# what does our data look like\n",
    "inputs: [[Ace, 2], hit, Win],\n",
    "         [Ace, 2, 3], hit, Win],\n",
    "         [Ace, 2, 3, King], stay, Win]\n",
    "         [Ace, 2], hit, Lose],\n",
    "         [Ace, 2, 3], stay, Lose]]\n",
    "            \n",
    "            \n",
    "outputs: [1,1,1,1,1,1,0] # where 1 indicates a win and 0 indicates a loss"
   ]
  },
  {
   "cell_type": "code",
   "execution_count": 2,
   "metadata": {},
   "outputs": [],
   "source": [
    "model = Keras.models.Sequential()\n"
   ]
  },
  {
   "cell_type": "code",
   "execution_count": null,
   "metadata": {},
   "outputs": [],
   "source": []
  }
 ],
 "metadata": {
  "kernelspec": {
   "display_name": "Python [conda env:.conda-keras-gpu]",
   "language": "python",
   "name": "conda-env-.conda-keras-gpu-py"
  },
  "language_info": {
   "codemirror_mode": {
    "name": "ipython",
    "version": 3
   },
   "file_extension": ".py",
   "mimetype": "text/x-python",
   "name": "python",
   "nbconvert_exporter": "python",
   "pygments_lexer": "ipython3",
   "version": "3.6.10"
  }
 },
 "nbformat": 4,
 "nbformat_minor": 4
}
