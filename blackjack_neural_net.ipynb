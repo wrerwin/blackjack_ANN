{
 "cells": [
  {
   "cell_type": "code",
   "execution_count": 1,
   "metadata": {},
   "outputs": [],
   "source": [
    "import blackjack_engine\n",
    "import random\n",
    "import numpy as np\n",
    "import pandas as pd\n",
    "# random.seed(4) # can use this for repeatable results"
   ]
  },
  {
   "cell_type": "code",
   "execution_count": 2,
   "metadata": {},
   "outputs": [],
   "source": [
    "def padarray(A, size):\n",
    "    if len(A) == 0:\n",
    "        A = ['']\n",
    "    t = size - len(A)\n",
    "    arr = np.pad(A, pad_width=(0, t), mode='empty')\n",
    "    \n",
    "    return arr.astype('<U32')\n",
    "\n",
    "def player_bot(hand):\n",
    "    \"\"\" makes random choice, or makes decisions using neural net etc\"\"\"\n",
    "    # decision making code goes here\n",
    "    return random.choice(['hit', 'stay']) \n",
    "\n",
    "def play_blackjack_game():\n",
    "    # initialize a game with shuffled deck and hands dealt to dealer and player:\n",
    "    game = blackjack_engine.BlackjackGame()\n",
    "    moves = []\n",
    "    #game_states = []\n",
    "    dealer_cards = []\n",
    "    player_hands = []\n",
    "    game_results = []\n",
    "    if game.is_finished:\n",
    "        # somebody got dealt a blackjack...need to deal with that case\n",
    "        pass\n",
    "    while not game.is_finished: # if nobody got dealt a blackjack, loop through decisions\n",
    "        player_hand = game.player_hands[0].cards[:]\n",
    "        dealer_card = game.dealer_hand.cards[0]\n",
    "        #game_state_row = {'player_hand':player_hand,'dealer_card':dealer_card}\n",
    "        #game_state_row = [player_hand, dealer_card]\n",
    "        player_hands.append(player_hand)\n",
    "        dealer_cards.append(dealer_card)\n",
    "        hit_or_stay = player_bot(game.player_hands)\n",
    "        moves.append(hit_or_stay)\n",
    "        game.player_move(hit_or_stay)\n",
    "\n",
    "    [game_results.append(game.result) for game_result in np.arange(len(moves))]\n",
    "        \n",
    "    return player_hands, dealer_cards, moves, game_results\n",
    "\n",
    "# implement a training set generation routine: give the API random actions and see how games turn out\n",
    "def build_training_set(n_pts):\n",
    "    '''\n",
    "    state_of_play is an n x m array of values where n is the number of data points, and m is the max number of features in a hand \n",
    "    y is an n x 1 array, where n is the number of data points (number of times the player drew a card, basically) \n",
    "    '''\n",
    "    all_player_hands = []\n",
    "    all_dealer_cards = []\n",
    "    all_moves = []\n",
    "    all_game_results = []\n",
    "\n",
    "    for pt in np.linspace(0,n_pts,n_pts+1):\n",
    "        [player_hands, dealer_cards, moves,game_results] = play_blackjack_game()\n",
    "        all_player_hands.append(player_hands)\n",
    "        all_dealer_cards.append(dealer_cards)\n",
    "        all_moves.append(moves)\n",
    "        all_game_results.append(game_results)\n",
    "    return all_player_hands, all_dealer_cards, all_moves, all_game_results\n",
    "\n",
    "def flatten_list(input_list):\n",
    "    flat_list = []\n",
    "    for element in input_list:\n",
    "        for sub_element in element:\n",
    "            flat_list.append(sub_element)\n",
    "    return flat_list"
   ]
  },
  {
   "cell_type": "code",
   "execution_count": 128,
   "metadata": {},
   "outputs": [],
   "source": [
    "from sklearn.model_selection import train_test_split\n",
    "from sklearn.preprocessing import LabelEncoder\n",
    "from sklearn.preprocessing import OrdinalEncoder\n",
    "from sklearn.preprocessing import normalize\n",
    "\n",
    "def reshape_data(input_data):\n",
    "    # flatten and preprocess all of the input data\n",
    "    [all_player_hands, all_dealer_cards, all_moves, all_game_results] = input_data\n",
    "    flat_player_hands = flatten_list(all_player_hands)\n",
    "    flat_game_results = flatten_list(all_game_results)\n",
    "    flat_moves = flatten_list(all_moves)\n",
    "    flat_dealer_cards = flatten_list(all_dealer_cards)\n",
    "    \n",
    "    # format X to be a n x m matrix where n is the number of examples and m is the max number of features\n",
    "    X = []\n",
    "    for instance in np.arange(len(flat_moves)):\n",
    "        Xrow = [flat_dealer_cards[int(instance)], flat_game_results[int(instance)]]\n",
    "        for card in flat_player_hands[int(instance)]:\n",
    "            Xrow.append(card)\n",
    "        while len(Xrow) < 9:\n",
    "            Xrow.append('pad')\n",
    "        X.append(Xrow)\n",
    "\n",
    "    return X, flat_moves\n",
    "\n",
    "def encode_inputs(X):\n",
    "    oe = OrdinalEncoder()\n",
    "    oe.fit(X)\n",
    "    X_enc = oe.transform(X)\n",
    "\n",
    "    return X_enc\n",
    "\n",
    "def encode_outputs(y):\n",
    "    le = LabelEncoder()\n",
    "    le.fit(y)\n",
    "    y_enc = le.transform(y)\n",
    "    return y_enc\n",
    "\n",
    "def preprocessing_pipeline(input_data):\n",
    "    # separate and shape the input data\n",
    "    X,y = reshape_data(input_data)\n",
    "    \n",
    "    # encode all variables numerically\n",
    "    X = encode_inputs(X)\n",
    "    y = encode_outputs(y)\n",
    "    \n",
    "    # normalize the inputs\n",
    "    X = normalize(X)\n",
    "    \n",
    "    # split into test and train sets\n",
    "    X_train, X_test, y_train, y_test = train_test_split(X, y, test_size=0.2, random_state=42)\n",
    "    \n",
    "    return X_train, X_test, y_train, y_test\n"
   ]
  },
  {
   "cell_type": "markdown",
   "metadata": {},
   "source": [
    "# Build a training set with a random player of a specified size"
   ]
  },
  {
   "cell_type": "code",
   "execution_count": 129,
   "metadata": {},
   "outputs": [],
   "source": [
    "n_examples = 1000\n",
    "[all_player_hands, all_dealer_cards, all_moves, all_game_results] = build_training_set(n_examples)\n",
    "input_data = [all_player_hands, all_dealer_cards, all_moves, all_game_results]"
   ]
  },
  {
   "cell_type": "markdown",
   "metadata": {},
   "source": [
    "# Preprocess the input data (reshape, encode, normalize)"
   ]
  },
  {
   "cell_type": "code",
   "execution_count": 130,
   "metadata": {},
   "outputs": [
    {
     "name": "stdout",
     "output_type": "stream",
     "text": [
      "X_train: (976, 9)\n",
      "X_test: (244, 9)\n",
      "y_train: (976,)\n",
      "y_test: (244,)\n"
     ]
    }
   ],
   "source": [
    "X_train, X_test, y_train, y_test = preprocessing_pipeline(input_data)\n",
    "print('X_train:',np.shape(X_train))\n",
    "print('X_test:',np.shape(X_test))\n",
    "print('y_train:',np.shape(y_train))\n",
    "print('y_test:',np.shape(y_test))"
   ]
  },
  {
   "cell_type": "code",
   "execution_count": 6,
   "metadata": {},
   "outputs": [],
   "source": [
    "# train the neural network on the previously generated data\n",
    "def build_model(X,y):\n",
    "    input_shape = np.shape(X)\n",
    "    output_shape = np.shape(y) \n",
    "    # use a simple sequential dense model to predict which actions will result in a win\n",
    "    return model\n",
    "\n",
    "def train_model(untrained_model,training_data):\n",
    "    training_data = [X_train, y_train, X_test, y_test]\n",
    "    \n",
    "    return trained_network\n",
    "\n",
    "def use_model_to_make_decision(trained_model,state_of_play):\n",
    "\n",
    "    decision = trained_model.predict(state_of_play)\n",
    "    while game_is_still_in_play:\n",
    "        state_of_play = play_blackjack_hand(state_of_play,decision)\n",
    "        game_is_still_in_play = check_result(state_of_play)\n",
    "    return state_of_play\n",
    "    "
   ]
  },
  {
   "cell_type": "code",
   "execution_count": null,
   "metadata": {},
   "outputs": [],
   "source": []
  }
 ],
 "metadata": {
  "kernelspec": {
   "display_name": "Python [conda env:.conda-keras-gpu]",
   "language": "python",
   "name": "conda-env-.conda-keras-gpu-py"
  },
  "language_info": {
   "codemirror_mode": {
    "name": "ipython",
    "version": 3
   },
   "file_extension": ".py",
   "mimetype": "text/x-python",
   "name": "python",
   "nbconvert_exporter": "python",
   "pygments_lexer": "ipython3",
   "version": "3.6.10"
  }
 },
 "nbformat": 4,
 "nbformat_minor": 4
}
