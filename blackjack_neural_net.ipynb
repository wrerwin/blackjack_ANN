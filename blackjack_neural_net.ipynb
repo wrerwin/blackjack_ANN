{
 "cells": [
  {
   "cell_type": "code",
   "execution_count": 49,
   "metadata": {
    "collapsed": true
   },
   "outputs": [],
   "source": [
    "import blackjack_engine\n",
    "import random\n",
    "import numpy as np\n",
    "import pandas as pd"
   ]
  },
  {
   "cell_type": "code",
   "execution_count": 86,
   "metadata": {
    "collapsed": false
   },
   "outputs": [],
   "source": [
    "# from blackjack_api_example.py\n",
    "def padarray(A, size):\n",
    "    if len(A) == 0:\n",
    "        A = ['']\n",
    "    t = size - len(A)\n",
    "    arr = np.pad(A, pad_width=(0, t), mode='empty')\n",
    "    \n",
    "    return arr.astype('<U32')\n",
    "\n",
    "def player_bot(hand):\n",
    "    \"\"\" makes random choice, or makes decisions using neural net etc\"\"\"\n",
    "    # decision making code goes here\n",
    "    return random.choice(['hit', 'stay']) \n",
    "\n",
    "def play_blackjack_game():\n",
    "    # initialize a game with shuffled deck and hands dealt to dealer and player:\n",
    "    game = blackjack_engine.BlackjackGame()\n",
    "    moves = []\n",
    "    game_states = []\n",
    "    game_results = []\n",
    "    if game.is_finished == False: # if nobody got dealt a blackjack, loop through decisions\n",
    "        while True: \n",
    "            #=====================================================================================================\n",
    "            #=====================================================================================================\n",
    "            #=====================================================================================================\n",
    "            player_hand = game.player_hands[0].cards[:]\n",
    "            dealer_card = game.dealer_hand.cards[0]\n",
    "            game_state_row = {'player_hand':player_hand,'dealer_card':dealer_card}\n",
    "            game_states.append(game_state_row)\n",
    "            #=====================================================================================================\n",
    "            #=====================================================================================================\n",
    "            #=====================================================================================================\n",
    "            hit_or_stay = player_bot(game.player_hands)\n",
    "            moves.append(hit_or_stay)\n",
    "            game.player_move(hit_or_stay)\n",
    "\n",
    "            if not game.is_finished:\n",
    "                continue # game is not finished so continue loop\n",
    "            if game.is_finished:\n",
    "                [game_results.append(game.result) for game_result in np.arange(len(moves))]\n",
    "                break # game is finished so exit loop\n",
    "    return game_states, moves, game_results\n",
    "\n",
    "# implement a training set generation routine: give the API random actions and see how games turn out\n",
    "def build_training_set(n_pts):\n",
    "    '''\n",
    "    state_of_play is an n x m array of values where n is the number of data points, and m is the max number of features in a hand \n",
    "    y is an n x 1 array, where n is the number of data points (number of times the player drew a card, basically) \n",
    "    '''\n",
    "    all_game_states = []\n",
    "    all_moves = []\n",
    "    all_game_results = []\n",
    "\n",
    "    for pt in np.linspace(0,n_pts,n_pts+1):\n",
    "        [game_states, moves,game_results] = play_blackjack_game()\n",
    "        all_game_states.append(game_states)\n",
    "        all_moves.append(moves)\n",
    "        all_game_results.append(game_results)\n",
    "    return all_game_states, all_moves, all_game_results"
   ]
  },
  {
   "cell_type": "code",
   "execution_count": 87,
   "metadata": {
    "collapsed": false
   },
   "outputs": [],
   "source": [
    "[all_game_states, all_moves, all_game_results] = build_training_set(10)\n",
    "\n",
    "# save the data with a pickle or something"
   ]
  },
  {
   "cell_type": "code",
   "execution_count": 88,
   "metadata": {
    "collapsed": false
   },
   "outputs": [
    {
     "name": "stdout",
     "output_type": "stream",
     "text": [
      "(11,)\n",
      "(11,)\n",
      "(11,)\n"
     ]
    }
   ],
   "source": [
    "print(np.shape(all_game_states))\n",
    "print(np.shape(all_moves))\n",
    "print(np.shape(all_game_results))"
   ]
  },
  {
   "cell_type": "code",
   "execution_count": 90,
   "metadata": {
    "collapsed": false,
    "scrolled": true
   },
   "outputs": [
    {
     "name": "stdout",
     "output_type": "stream",
     "text": [
      "[['stay'], ['hit', 'stay'], ['hit'], ['stay'], ['hit'], ['hit', 'hit', 'stay'], ['stay'], ['stay'], ['stay'], ['stay'], ['hit']]\n",
      "[[{'player_hand': ['8', '9'], 'dealer_card': '10'}], [{'player_hand': ['A', '8'], 'dealer_card': 'J'}, {'player_hand': ['A', '8', '6'], 'dealer_card': 'J'}], [{'player_hand': ['J', '4'], 'dealer_card': '5'}], [{'player_hand': ['J', '10'], 'dealer_card': '10'}], [{'player_hand': ['5', '6'], 'dealer_card': 'J'}], [{'player_hand': ['3', '5'], 'dealer_card': 'Q'}, {'player_hand': ['3', '5', '5'], 'dealer_card': 'Q'}, {'player_hand': ['3', '5', '5', '4'], 'dealer_card': 'Q'}], [{'player_hand': ['6', 'A'], 'dealer_card': 'K'}], [{'player_hand': ['6', '10'], 'dealer_card': 'K'}], [{'player_hand': ['2', '9'], 'dealer_card': 'Q'}], [{'player_hand': ['3', 'J'], 'dealer_card': '3'}], [{'player_hand': ['J', '7'], 'dealer_card': '8'}]]\n",
      "[[0], [-1, -1], [-1], [1], [1], [1, 1, 1], [-1], [-1], [-1], [1], [-1]]\n"
     ]
    }
   ],
   "source": [
    "# what does the data look like?\n",
    "n = 1\n",
    "print(all_moves)\n",
    "print(all_game_states)\n",
    "print(all_game_results)\n",
    "\n",
    "# it is possible to flatten all_moves, as well as all_game_results, but not all_game_states, because they are incorrect.\n",
    "# how can we pull the information that we want using the engine? "
   ]
  },
  {
   "cell_type": "code",
   "execution_count": 91,
   "metadata": {
    "collapsed": true
   },
   "outputs": [],
   "source": [
    "# need to flatten all of the vectors and train a model"
   ]
  },
  {
   "cell_type": "code",
   "execution_count": 92,
   "metadata": {
    "collapsed": true
   },
   "outputs": [],
   "source": [
    "# train the neural network on the previously generated data\n",
    "def build_model(X,y):\n",
    "    input_shape = np.shape(X)\n",
    "    output_shape = np.shape(y) \n",
    "    # use a simple sequential dense model to predict which actions will result in a win\n",
    "    return model\n",
    "\n",
    "def train_model(untrained_model,training_data):\n",
    "    training_data = [X_train, y_train, X_test, y_test]\n",
    "    \n",
    "    return trained_network\n",
    "\n",
    "def use_model_to_make_decision(trained_model,state_of_play):\n",
    "\n",
    "    decision = trained_model.predict(state_of_play)\n",
    "    while game_is_still_in_play:\n",
    "        state_of_play = play_blackjack_hand(state_of_play,decision)\n",
    "        game_is_still_in_play = check_result(state_of_play)\n",
    "    return state_of_play\n",
    "    "
   ]
  },
  {
   "cell_type": "code",
   "execution_count": 93,
   "metadata": {
    "collapsed": false
   },
   "outputs": [
    {
     "ename": "SyntaxError",
     "evalue": "invalid syntax (<ipython-input-93-c72098d537c4>, line 1)",
     "output_type": "error",
     "traceback": [
      "\u001b[0;36m  File \u001b[0;32m\"<ipython-input-93-c72098d537c4>\"\u001b[0;36m, line \u001b[0;32m1\u001b[0m\n\u001b[0;31m    for row in actions\u001b[0m\n\u001b[0m                      ^\u001b[0m\n\u001b[0;31mSyntaxError\u001b[0m\u001b[0;31m:\u001b[0m invalid syntax\n"
     ]
    }
   ],
   "source": [
    "for row in actions"
   ]
  },
  {
   "cell_type": "code",
   "execution_count": null,
   "metadata": {
    "collapsed": true
   },
   "outputs": [],
   "source": []
  }
 ],
 "metadata": {
  "kernelspec": {
   "display_name": "Python 2",
   "language": "python",
   "name": "python2"
  },
  "language_info": {
   "codemirror_mode": {
    "name": "ipython",
    "version": 2
   },
   "file_extension": ".py",
   "mimetype": "text/x-python",
   "name": "python",
   "nbconvert_exporter": "python",
   "pygments_lexer": "ipython2",
   "version": "2.7.10"
  }
 },
 "nbformat": 4,
 "nbformat_minor": 4
}
