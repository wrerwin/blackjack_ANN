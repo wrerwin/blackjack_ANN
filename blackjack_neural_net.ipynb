{
 "cells": [
  {
   "cell_type": "code",
   "execution_count": 87,
   "metadata": {},
   "outputs": [],
   "source": [
    "import blackjack_engine\n",
    "import random\n",
    "import numpy as np\n",
    "import pandas as pd"
   ]
  },
  {
   "cell_type": "code",
   "execution_count": 174,
   "metadata": {},
   "outputs": [],
   "source": [
    "# from blackjack_api_example.py\n",
    "def padarray(A, size):\n",
    "    if len(A) == 0:\n",
    "        A = ['']\n",
    "    t = size - len(A)\n",
    "    arr = np.pad(A, pad_width=(0, t), mode='empty')\n",
    "    \n",
    "    return arr.astype('<U32')\n",
    "\n",
    "def player_bot(hand):\n",
    "    \"\"\" makes random choice, or makes decisions using neural net etc\"\"\"\n",
    "    # decision making code goes here\n",
    "    return random.choice(['hit', 'stay']) \n",
    "\n",
    "def play_blackjack_game():\n",
    "    # initialize a game with shuffled deck and hands dealt to dealer and player:\n",
    "    game = blackjack_engine.BlackjackGame()\n",
    "    moves = []\n",
    "    game_states = []\n",
    "    game_results = []\n",
    "    if game.is_finished == False:\n",
    "        while True: \n",
    "            hit_or_stay = player_bot(game.player_hands)\n",
    "            moves = np.append(moves,hit_or_stay)\n",
    "            game.player_move(hit_or_stay)\n",
    "            player_hand = game.player_hands\n",
    "            dealer_card = game.dealer_hand.cards[0]\n",
    "            game_state_row = {'player_hand':player_hand,'dealer_card':dealer_card}\n",
    "            game_states = np.append(game_states,game_state_row)\n",
    "            if game.result == None:\n",
    "                continue # game is not finished so continue loop\n",
    "            if game.result in [-1, 0, 1, 2]:\n",
    "                [game_results.append(game.result) for game_result in np.arange(len(moves))]\n",
    "                break # game is finished so exit loop\n",
    "    return game_states, moves, game_results\n",
    "\n",
    "# implement a training set generation routine: give the API random actions and see how games turn out\n",
    "def build_training_set(n_pts):\n",
    "    '''\n",
    "    state_of_play is an n x m array of values where n is the number of data points, and m is the max number of features in a hand \n",
    "    y is an n x 1 array, where n is the number of data points (number of times the player drew a card, basically) \n",
    "    '''\n",
    "    all_game_states = []\n",
    "    all_moves = []\n",
    "    all_game_results = []\n",
    "\n",
    "    for pt in np.linspace(0,n_pts,n_pts+1):\n",
    "        [game_states, moves,game_results] = play_blackjack_game()\n",
    "        all_game_states.append(game_states)\n",
    "        all_moves.append(moves)\n",
    "        all_game_results.append(game_results)\n",
    "    return all_game_states, all_moves, all_game_results"
   ]
  },
  {
   "cell_type": "code",
   "execution_count": 175,
   "metadata": {},
   "outputs": [],
   "source": [
    "[all_game_states, all_moves, all_game_results] = build_training_set(10)\n",
    "\n",
    "# save the data with a pickle or something"
   ]
  },
  {
   "cell_type": "code",
   "execution_count": 186,
   "metadata": {},
   "outputs": [
    {
     "name": "stdout",
     "output_type": "stream",
     "text": [
      "(11,)\n",
      "(11,)\n",
      "(11,)\n"
     ]
    }
   ],
   "source": [
    "print(np.shape(all_game_states))\n",
    "print(np.shape(all_moves))\n",
    "print(np.shape(all_game_results))"
   ]
  },
  {
   "cell_type": "code",
   "execution_count": 193,
   "metadata": {},
   "outputs": [
    {
     "name": "stdout",
     "output_type": "stream",
     "text": [
      "['hit']\n",
      "[{'player_hand': [[9 9 K], total: 28], 'dealer_card': '5'}]\n",
      "[-1]\n"
     ]
    }
   ],
   "source": [
    "# what does the data look like?\n",
    "\n",
    "n = 4\n",
    "print(all_moves[n])\n",
    "print(all_game_states[n])\n",
    "print(all_game_results[n])"
   ]
  },
  {
   "cell_type": "code",
   "execution_count": null,
   "metadata": {},
   "outputs": [],
   "source": [
    "# need to flatten all of the vectors and train a model"
   ]
  },
  {
   "cell_type": "code",
   "execution_count": 86,
   "metadata": {},
   "outputs": [],
   "source": [
    "# train the neural network on the previously generated data\n",
    "def build_model(X,y):\n",
    "    input_shape = np.shape(X)\n",
    "    output_shape = np.shape(y) \n",
    "    # use a simple sequential dense model to predict which actions will result in a win\n",
    "    return model\n",
    "\n",
    "def train_model(untrained_model,training_data):\n",
    "    training_data = [X_train, y_train, X_test, y_test]\n",
    "    \n",
    "    return trained_network\n",
    "\n",
    "def use_model_to_make_decision(trained_model,state_of_play):\n",
    "\n",
    "    decision = trained_model.predict(state_of_play)\n",
    "    while game_is_still_in_play:\n",
    "        state_of_play = play_blackjack_hand(state_of_play,decision)\n",
    "        game_is_still_in_play = check_result(state_of_play)\n",
    "    return state_of_play\n",
    "    "
   ]
  },
  {
   "cell_type": "code",
   "execution_count": null,
   "metadata": {},
   "outputs": [],
   "source": [
    "for row in actions"
   ]
  }
 ],
 "metadata": {
  "kernelspec": {
   "display_name": "Python [conda env:.conda-keras-gpu]",
   "language": "python",
   "name": "conda-env-.conda-keras-gpu-py"
  },
  "language_info": {
   "codemirror_mode": {
    "name": "ipython",
    "version": 3
   },
   "file_extension": ".py",
   "mimetype": "text/x-python",
   "name": "python",
   "nbconvert_exporter": "python",
   "pygments_lexer": "ipython3",
   "version": "3.6.10"
  }
 },
 "nbformat": 4,
 "nbformat_minor": 4
}
