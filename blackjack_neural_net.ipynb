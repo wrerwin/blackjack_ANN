{
 "cells": [
  {
   "cell_type": "code",
   "execution_count": 40,
   "metadata": {},
   "outputs": [],
   "source": [
    "import blackjack_engine\n",
    "import random\n",
    "import numpy as np\n",
    "import pandas as pd\n",
    "# random.seed(4) # can use this for repeatable results"
   ]
  },
  {
   "cell_type": "code",
   "execution_count": 41,
   "metadata": {},
   "outputs": [],
   "source": [
    "# from blackjack_api_example.py\n",
    "def padarray(A, size):\n",
    "    if len(A) == 0:\n",
    "        A = ['']\n",
    "    t = size - len(A)\n",
    "    arr = np.pad(A, pad_width=(0, t), mode='empty')\n",
    "    \n",
    "    return arr.astype('<U32')\n",
    "\n",
    "def player_bot(hand):\n",
    "    \"\"\" makes random choice, or makes decisions using neural net etc\"\"\"\n",
    "    # decision making code goes here\n",
    "    return random.choice(['hit', 'stay']) \n",
    "\n",
    "def play_blackjack_game():\n",
    "    # initialize a game with shuffled deck and hands dealt to dealer and player:\n",
    "    game = blackjack_engine.BlackjackGame()\n",
    "    moves = []\n",
    "    #game_states = []\n",
    "    dealer_cards = []\n",
    "    player_hands = []\n",
    "    game_results = []\n",
    "    if game.is_finished:\n",
    "        # somebody got dealt a blackjack...need to deal with that case\n",
    "        pass\n",
    "    while not game.is_finished: # if nobody got dealt a blackjack, loop through decisions\n",
    "        player_hand = game.player_hands[0].cards[:]\n",
    "        dealer_card = game.dealer_hand.cards[0]\n",
    "        #game_state_row = {'player_hand':player_hand,'dealer_card':dealer_card}\n",
    "        #game_state_row = [player_hand, dealer_card]\n",
    "        player_hands.append(player_hand)\n",
    "        dealer_cards.append(dealer_card)\n",
    "        hit_or_stay = player_bot(game.player_hands)\n",
    "        moves.append(hit_or_stay)\n",
    "        game.player_move(hit_or_stay)\n",
    "\n",
    "    [game_results.append(game.result) for game_result in np.arange(len(moves))]\n",
    "        \n",
    "    return player_hands, dealer_cards, moves, game_results\n",
    "\n",
    "# implement a training set generation routine: give the API random actions and see how games turn out\n",
    "def build_training_set(n_pts):\n",
    "    '''\n",
    "    state_of_play is an n x m array of values where n is the number of data points, and m is the max number of features in a hand \n",
    "    y is an n x 1 array, where n is the number of data points (number of times the player drew a card, basically) \n",
    "    '''\n",
    "    all_player_hands = []\n",
    "    all_dealer_cards = []\n",
    "    all_moves = []\n",
    "    all_game_results = []\n",
    "\n",
    "    for pt in np.linspace(0,n_pts,n_pts+1):\n",
    "        [player_hands, dealer_cards, moves,game_results] = play_blackjack_game()\n",
    "        all_player_hands.append(player_hands)\n",
    "        all_dealer_cards.append(dealer_cards)\n",
    "        all_moves.append(moves)\n",
    "        all_game_results.append(game_results)\n",
    "    return all_player_hands, all_dealer_cards, all_moves, all_game_results\n",
    "\n",
    "def flatten_list(input_list):\n",
    "    flat_list = []\n",
    "    for element in input_list:\n",
    "        for sub_element in element:\n",
    "            flat_list.append(sub_element)\n",
    "    return flat_list"
   ]
  },
  {
   "cell_type": "code",
   "execution_count": 42,
   "metadata": {},
   "outputs": [],
   "source": [
    "[all_player_hands, all_dealer_cards, all_moves, all_game_results] = build_training_set(10)"
   ]
  },
  {
   "cell_type": "code",
   "execution_count": 43,
   "metadata": {},
   "outputs": [],
   "source": [
    "# Flatten the data such that each row represents a decision instance\n",
    "flat_moves = list(np.concatenate(all_moves).flat)\n",
    "flat_moves = flatten_list(all_moves)\n",
    "flat_game_results = flatten_list(all_game_results)\n",
    "flat_player_hands = flatten_list(all_player_hands)\n",
    "flat_dealer_cards = flatten_list(all_dealer_cards)"
   ]
  },
  {
   "cell_type": "code",
   "execution_count": 44,
   "metadata": {},
   "outputs": [
    {
     "name": "stdout",
     "output_type": "stream",
     "text": [
      "(3, 11)\n",
      "(11,)\n"
     ]
    }
   ],
   "source": [
    "# concatenate and pad flat_player_hands, flat_game_results and flat_dealer_cards to build input dataset\n",
    "X = np.vstack([flat_dealer_cards,flat_game_results,flat_player_hands])\n",
    "y = flat_moves\n",
    "print(np.shape(X))\n",
    "print(np.shape(y))"
   ]
  },
  {
   "cell_type": "code",
   "execution_count": 6,
   "metadata": {},
   "outputs": [],
   "source": [
    "# train the neural network on the previously generated data\n",
    "def build_model(X,y):\n",
    "    input_shape = np.shape(X)\n",
    "    output_shape = np.shape(y) \n",
    "    # use a simple sequential dense model to predict which actions will result in a win\n",
    "    return model\n",
    "\n",
    "def train_model(untrained_model,training_data):\n",
    "    training_data = [X_train, y_train, X_test, y_test]\n",
    "    \n",
    "    return trained_network\n",
    "\n",
    "def use_model_to_make_decision(trained_model,state_of_play):\n",
    "\n",
    "    decision = trained_model.predict(state_of_play)\n",
    "    while game_is_still_in_play:\n",
    "        state_of_play = play_blackjack_hand(state_of_play,decision)\n",
    "        game_is_still_in_play = check_result(state_of_play)\n",
    "    return state_of_play\n",
    "    "
   ]
  },
  {
   "cell_type": "code",
   "execution_count": null,
   "metadata": {},
   "outputs": [],
   "source": []
  }
 ],
 "metadata": {
  "kernelspec": {
   "display_name": "Python 2",
   "language": "python",
   "name": "python2"
  },
  "language_info": {
   "codemirror_mode": {
    "name": "ipython",
    "version": 2
   },
   "file_extension": ".py",
   "mimetype": "text/x-python",
   "name": "python",
   "nbconvert_exporter": "python",
   "pygments_lexer": "ipython2",
   "version": "2.7.15"
  }
 },
 "nbformat": 4,
 "nbformat_minor": 4
}
