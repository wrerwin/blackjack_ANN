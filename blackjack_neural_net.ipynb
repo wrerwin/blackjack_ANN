{
 "cells": [
  {
   "cell_type": "code",
   "execution_count": 3,
   "metadata": {},
   "outputs": [],
   "source": [
    "from main_blackjack_actions import "
   ]
  },
  {
   "cell_type": "code",
   "execution_count": null,
   "metadata": {},
   "outputs": [],
   "source": [
    "# generate the training data\n",
    "rounds_to_play = 1e6\n",
    "X = []\n",
    "y = []\n",
    "for game in rounds_to_play:\n",
    "    results = play_blackjack_round()\n",
    "    results = [hands_played,decisions_made,dealer_first_card,win_loss_result]\n",
    "    # append each of these to a numpy array or pandas df, may be best to pad first\n",
    "    inputs = inputs.append([hands_played,decisions_made,dealer_first_card])\n",
    "    outputs = outputs.append(win_loss_result)\n",
    "    \n"
   ]
  },
  {
   "cell_type": "markdown",
   "metadata": {},
   "source": [
    "# how do we actually drive the neural network to want to win?\n",
    "1. Feed the neural network the current state of the game (hands played,decisions_made,dealer_first card)\n",
    "2. Feed the neural network the our choice (1,0) and see which one gives us a higher probability of winning, this has to happen twice - not super elegant. Is there a better way to do this? "
   ]
  },
  {
   "cell_type": "code",
   "execution_count": null,
   "metadata": {},
   "outputs": [],
   "source": []
  }
 ],
 "metadata": {
  "kernelspec": {
   "display_name": "Python [conda env:.conda-keras-gpu]",
   "language": "python",
   "name": "conda-env-.conda-keras-gpu-py"
  },
  "language_info": {
   "codemirror_mode": {
    "name": "ipython",
    "version": 3
   },
   "file_extension": ".py",
   "mimetype": "text/x-python",
   "name": "python",
   "nbconvert_exporter": "python",
   "pygments_lexer": "ipython3",
   "version": "3.6.10"
  }
 },
 "nbformat": 4,
 "nbformat_minor": 4
}
